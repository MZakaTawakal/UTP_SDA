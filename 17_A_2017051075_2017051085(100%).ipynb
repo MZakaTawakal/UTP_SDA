{
  "nbformat": 4,
  "nbformat_minor": 0,
  "metadata": {
    "colab": {
      "provenance": []
    },
    "kernelspec": {
      "name": "python3",
      "display_name": "Python 3"
    },
    "language_info": {
      "name": "python"
    }
  },
  "cells": [
    {
      "cell_type": "code",
      "execution_count": 7,
      "metadata": {
        "id": "YKaN3wy4KvWT",
        "colab": {
          "base_uri": "https://localhost:8080/"
        },
        "outputId": "91af210b-4e40-4930-cfe2-179beb8e3113"
      },
      "outputs": [
        {
          "output_type": "stream",
          "name": "stdout",
          "text": [
            "\n",
            "Program pengolahan Data Mahasiswa\n",
            "Nama : Riyo Pratama Juliyansa_M. Zaka Tawakal\n",
            "NPM  : 2017051075_2017051085\n",
            "Kelas: A\n",
            "\n",
            "Masukan NPM :66\n",
            "Masukan Nama :ww\n",
            "Masukan Prodi :ee\n",
            "Masukan IPK :2\n",
            "Ingin input ulang (y/t) ? :t\n",
            "\n",
            " Jumlah Mahasiswa Yang Sudah Terinput :  1\n",
            "\n",
            "............................. Mahasiswa Ke- 1 ........................\n",
            "NPM Mahasiswa :  66\n",
            "Nama Mahasiswa : ww\n",
            "Prodi : ee\n",
            "IPK : 2.0\n",
            "...........................................................................\n"
          ]
        }
      ],
      "source": [
        "print(\"\\nProgram pengolahan Data Mahasiswa\")\n",
        "print(\"Nama : Riyo Pratama Juliyansa_M. Zaka Tawakal\")\n",
        "print(\"NPM  : 2017051075_2017051085\")\n",
        "print(\"Kelas: A\\n\")\n",
        "\n",
        "list_npm     = []\n",
        "list_nama    = []\n",
        "list_jurusan = []\n",
        "list_ipk     = []\n",
        "\n",
        "class dataMahasiswa() :\n",
        "  def __init__(self,npm,nama,jurusan,ipk):\n",
        "    self.npm = npm\n",
        "    list_npm.append(self.npm)\n",
        "    self.nama = nama\n",
        "    list_nama.append(self.nama)\n",
        "    self.jurusan = jurusan\n",
        "    list_jurusan.append(self.jurusan)\n",
        "    self.ipk = ipk\n",
        "    list_ipk.append(self.ipk)\n",
        "    \n",
        "  def tampilData (self):\n",
        "    n = 0\n",
        "    print(\"\\n Jumlah Mahasiswa Yang Sudah Terinput : \",x)\n",
        "    for i in range(x):\n",
        "      n+=1\n",
        "      if list_ipk[i] >= 0 :\n",
        "        print(\"\\n............................. Mahasiswa Ke-\",n,\"........................\")\n",
        "        print(\"NPM Mahasiswa : \",list_npm[i])\n",
        "        print(\"Nama Mahasiswa :\",list_nama[i])\n",
        "        print(\"Prodi :\",list_jurusan[i])\n",
        "        print(\"IPK :\",list_ipk[i])\n",
        "        print(\"...........................................................................\")\n",
        "      else :\n",
        "        i+=1\n",
        "\n",
        "stop = False\n",
        "x = 0\n",
        "while(not stop):\n",
        "  inputnpm = input(\"Masukan NPM :\")\n",
        "  inputnama = input(\"Masukan Nama :\")\n",
        "  inputProdi = input(\"Masukan Prodi :\")\n",
        "  inputipk = float(input(\"Masukan IPK :\"))\n",
        "  mahasiswa = dataMahasiswa(inputnpm,inputnama,inputProdi,inputipk)\n",
        "  x+=1\n",
        "  ulang = input(\"Ingin input ulang (y/t) ? :\")\n",
        "  if ulang == \"t\":\n",
        "    stop = True\n",
        "\n",
        "mahasiswa.tampilData()"
      ]
    }
  ]
}