{
  "nbformat": 4,
  "nbformat_minor": 0,
  "metadata": {
    "colab": {
      "provenance": []
    },
    "kernelspec": {
      "name": "python3",
      "display_name": "Python 3"
    },
    "language_info": {
      "name": "python"
    }
  },
  "cells": [
    {
      "cell_type": "code",
      "execution_count": null,
      "metadata": {
        "id": "YKaN3wy4KvWT"
      },
      "outputs": [],
      "source": [
        "print(\"\\nProgram pengolahan Data Mahasiswa\")\n",
        "print(\"Nama : Riyo Pratama Juliyansa\")\n",
        "print(\"NPM  : 2017051075\")\n",
        "print(\"Kelas: A\\n\")\n",
        "\n",
        "list_npm     = []\n",
        "list_nama    = []\n",
        "list_jurusan = []\n",
        "list_ipk     = []\n",
        "\n",
        "class datamahasiswa :\n",
        "  def __init__(self,npm,nama,jurusan,ipk):\n",
        "    self.npm = npm\n",
        "    list_npm.append(self.npm)\n",
        "    self.nama = nama\n",
        "    list_nama.append(self.nama)\n",
        "    self.jurusan = jurusan\n",
        "    list_jurusan.append(self.jurusan)\n",
        "    self.ipk = ipk\n",
        "    list_ipk.append(self.ipk)\n",
        "    "
      ]
    }
  ]
}